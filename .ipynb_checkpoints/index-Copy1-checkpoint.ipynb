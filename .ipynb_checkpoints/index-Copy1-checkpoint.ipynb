{
 "cells": [
  {
   "cell_type": "markdown",
   "metadata": {},
   "source": [
    "In the following codealong, we will combine our new NLP knowledge with our knowledge of pipelines. We will apply this combination of skills to a common task: effectively separate `spam` from `ham` in a set of messages. "
   ]
  },
  {
   "cell_type": "code",
   "execution_count": 1,
   "metadata": {},
   "outputs": [
    {
     "name": "stdout",
     "output_type": "stream",
     "text": [
      "hello\n"
     ]
    }
   ],
   "source": [
    "# Import not necessary for students\n",
    "import sys\n",
    "sys.path.append('../..')\n",
    "\n",
    "from new_caller.random_student_engager.student_caller import CohortCaller\n",
    "from new_caller.random_student_engager.student_list import avocoder_toasters\n",
    "\n",
    "caller = CohortCaller(avocoder_toasters)"
   ]
  },
  {
   "cell_type": "markdown",
   "metadata": {},
   "source": [
    "The dataset comes from the [UCI Machine Learning Repository](https://archive.ics.uci.edu/ml/datasets/sms+spam+collection). "
   ]
  },
  {
   "cell_type": "code",
   "execution_count": 2,
   "metadata": {},
   "outputs": [],
   "source": [
    "# Run cell with no changes to import Ham vs. Spam SMS dataset\n",
    "import pandas as pd\n",
    "\n",
    "with open('data/SMSSpamCollection') as read_file:\n",
    "    texts = read_file.readlines()\n",
    "    \n",
    "text = [text.split('\\t')[1] for text in texts]\n",
    "label = [text.split('\\t')[0] for text in texts]\n",
    "df = pd.DataFrame(text, columns=['text'])\n",
    "df['label'] = label\n",
    "df['label'] = df['label']"
   ]
  },
  {
   "cell_type": "code",
   "execution_count": 3,
   "metadata": {},
   "outputs": [
    {
     "data": {
      "text/html": [
       "<div>\n",
       "<style scoped>\n",
       "    .dataframe tbody tr th:only-of-type {\n",
       "        vertical-align: middle;\n",
       "    }\n",
       "\n",
       "    .dataframe tbody tr th {\n",
       "        vertical-align: top;\n",
       "    }\n",
       "\n",
       "    .dataframe thead th {\n",
       "        text-align: right;\n",
       "    }\n",
       "</style>\n",
       "<table border=\"1\" class=\"dataframe\">\n",
       "  <thead>\n",
       "    <tr style=\"text-align: right;\">\n",
       "      <th></th>\n",
       "      <th>text</th>\n",
       "      <th>label</th>\n",
       "    </tr>\n",
       "  </thead>\n",
       "  <tbody>\n",
       "    <tr>\n",
       "      <th>0</th>\n",
       "      <td>Go until jurong point, crazy.. Available only ...</td>\n",
       "      <td>ham</td>\n",
       "    </tr>\n",
       "    <tr>\n",
       "      <th>1</th>\n",
       "      <td>Ok lar... Joking wif u oni...\\n</td>\n",
       "      <td>ham</td>\n",
       "    </tr>\n",
       "    <tr>\n",
       "      <th>2</th>\n",
       "      <td>Free entry in 2 a wkly comp to win FA Cup fina...</td>\n",
       "      <td>spam</td>\n",
       "    </tr>\n",
       "    <tr>\n",
       "      <th>3</th>\n",
       "      <td>U dun say so early hor... U c already then say...</td>\n",
       "      <td>ham</td>\n",
       "    </tr>\n",
       "    <tr>\n",
       "      <th>4</th>\n",
       "      <td>Nah I don't think he goes to usf, he lives aro...</td>\n",
       "      <td>ham</td>\n",
       "    </tr>\n",
       "  </tbody>\n",
       "</table>\n",
       "</div>"
      ],
      "text/plain": [
       "                                                text label\n",
       "0  Go until jurong point, crazy.. Available only ...   ham\n",
       "1                    Ok lar... Joking wif u oni...\\n   ham\n",
       "2  Free entry in 2 a wkly comp to win FA Cup fina...  spam\n",
       "3  U dun say so early hor... U c already then say...   ham\n",
       "4  Nah I don't think he goes to usf, he lives aro...   ham"
      ]
     },
     "execution_count": 3,
     "metadata": {},
     "output_type": "execute_result"
    }
   ],
   "source": [
    "df.head()"
   ]
  },
  {
   "cell_type": "markdown",
   "metadata": {},
   "source": [
    "As the head method shows, our data is labeled either ham or spam.\n",
    "\n",
    "Check the distribution of the target in the cell below."
   ]
  },
  {
   "cell_type": "code",
   "execution_count": 4,
   "metadata": {},
   "outputs": [],
   "source": [
    "# Use pandas to find the distribution of Spam to Ham in the dataset\n"
   ]
  },
  {
   "cell_type": "code",
   "execution_count": 5,
   "metadata": {},
   "outputs": [
    {
     "data": {
      "text/plain": [
       "ham     4827\n",
       "spam     747\n",
       "Name: label, dtype: int64"
      ]
     },
     "execution_count": 5,
     "metadata": {},
     "output_type": "execute_result"
    }
   ],
   "source": [
    "#__SOLUTION__\n",
    "df['label'].value_counts()"
   ]
  },
  {
   "cell_type": "code",
   "execution_count": 6,
   "metadata": {},
   "outputs": [
    {
     "data": {
      "text/plain": [
       "array(['Seth'], dtype='<U7')"
      ]
     },
     "execution_count": 6,
     "metadata": {},
     "output_type": "execute_result"
    }
   ],
   "source": [
    "caller.call_n_students(1)"
   ]
  },
  {
   "cell_type": "markdown",
   "metadata": {},
   "source": [
    "Certain metrics require that our target be in the form of 0's and 1's. Use the LabelEncoder method to transform the target.  "
   ]
  },
  {
   "cell_type": "code",
   "execution_count": 7,
   "metadata": {},
   "outputs": [],
   "source": [
    "# f1 metric requires 0,1 labels\n",
    "# Which should be 0 and which should be 1\n",
    "from sklearn.preprocessing import LabelEncoder\n"
   ]
  },
  {
   "cell_type": "code",
   "execution_count": 8,
   "metadata": {},
   "outputs": [],
   "source": [
    "#__SOLUTION__\n",
    "le = LabelEncoder()\n",
    "df['label'] = le.fit_transform(df['label'])"
   ]
  },
  {
   "cell_type": "code",
   "execution_count": 9,
   "metadata": {},
   "outputs": [
    {
     "data": {
      "text/plain": [
       "array(['Rashid'], dtype='<U7')"
      ]
     },
     "execution_count": 9,
     "metadata": {},
     "output_type": "execute_result"
    }
   ],
   "source": [
    "caller.call_n_students(1)"
   ]
  },
  {
   "cell_type": "markdown",
   "metadata": {},
   "source": [
    "# Target Distribution and Train-Test Split"
   ]
  },
  {
   "cell_type": "markdown",
   "metadata": {},
   "source": [
    "The model building workflow is similar to what we have performed in Phase 3.  \n",
    "\n",
    "To begin, train-test split the data set.  Preserve the class balance in the test set."
   ]
  },
  {
   "cell_type": "code",
   "execution_count": 10,
   "metadata": {},
   "outputs": [],
   "source": [
    "# train-test split the dataset while preserving the class balance show above\n",
    "# Pass random_state=42 as an argument as well\n",
    "from sklearn.model_selection import train_test_split\n",
    "\n"
   ]
  },
  {
   "cell_type": "code",
   "execution_count": 11,
   "metadata": {},
   "outputs": [],
   "source": [
    "#__SOLUTION__\n",
    "from sklearn.model_selection import train_test_split\n",
    "\n",
    "X_train, X_test, y_train, y_test = train_test_split(df[['text']], df['label'], \n",
    "                                                    random_state=42, \n",
    "                                                   stratify=df['label'])"
   ]
  },
  {
   "cell_type": "code",
   "execution_count": 12,
   "metadata": {},
   "outputs": [
    {
     "data": {
      "text/plain": [
       "array(['Meaghan'], dtype='<U7')"
      ]
     },
     "execution_count": 12,
     "metadata": {},
     "output_type": "execute_result"
    }
   ],
   "source": [
    "caller.call_n_students(1)"
   ]
  },
  {
   "cell_type": "markdown",
   "metadata": {},
   "source": [
    "# Count Vectorizor and TFIDF Vectorizer"
   ]
  },
  {
   "cell_type": "markdown",
   "metadata": {},
   "source": [
    "In a small group, take 10 minutes to move through one model building iteration.  What can that look like? Through some steps you decide on as a group, fit a vectorizer and a model on a training set(s), transform the \"test\" set, and score on it. \n",
    "\n",
    "Two points to take into careful consideration:\n",
    "    \n",
    "    1. What metric is appropriate in this case? Or, to put it another way, is one error more costly when creating a spam detector?\n",
    "    2. Will you use cross-validation/pipelines?\n",
    "    3. What vectorizer and model will you use? \n",
    "\n",
    "Whatever you decide, start with a simple document-term matrix. Start with a max_features of 50.  Go ahead and feed arguments to the vectorizer to take out stopwords. Use default params for the rest.\n",
    "\n",
    "After you are finished, generate a confusion matrix of your \"test\" predictions. If you are using cross_validate, use cross_validate_predict along with sklearn's confusion_matrix to create it."
   ]
  },
  {
   "cell_type": "code",
   "execution_count": 13,
   "metadata": {},
   "outputs": [],
   "source": [
    "# your code here"
   ]
  },
  {
   "cell_type": "code",
   "execution_count": 14,
   "metadata": {},
   "outputs": [
    {
     "data": {
      "text/plain": [
       "{'fit_time': array([0.04860902, 0.04546094, 0.04029584, 0.0393002 , 0.03818822]),\n",
       " 'score_time': array([0.00984597, 0.008919  , 0.00850511, 0.00795603, 0.00825381]),\n",
       " 'test_score': array([0.64516129, 0.61688312, 0.60483871, 0.66901408, 0.64236111]),\n",
       " 'train_score': array([0.6294964 , 0.65498155, 0.65159574, 0.63858696, 0.64545455])}"
      ]
     },
     "execution_count": 14,
     "metadata": {},
     "output_type": "execute_result"
    }
   ],
   "source": [
    "#__SOLUTION__\n",
    "# pass the pipeline into sklearn's cross validate function.  \n",
    "from sklearn.model_selection import cross_validate\n",
    "from sklearn.metrics import make_scorer\n",
    "from sklearn.metrics import fbeta_score\n",
    "from sklearn.feature_extraction.text import TfidfVectorizer\n",
    "from sklearn.pipeline import make_pipeline\n",
    "from sklearn.naive_bayes import MultinomialNB\n",
    "from nltk.corpus import stopwords\n",
    "\n",
    "\n",
    "f1_precision = make_scorer(fbeta_score, beta=.5)\n",
    "\n",
    "pipe = make_pipeline(TfidfVectorizer(max_features=25, stop_words=stopwords.words('english')), MultinomialNB())\n",
    "\n",
    "# your code here: return the train score so we can look at the bias variance tradeoff\n",
    "cv = cross_validate(pipe, X_train['text'], y_train, return_train_score=True,\n",
    "                    scoring=f1_precision)\n",
    "cv"
   ]
  },
  {
   "cell_type": "code",
   "execution_count": 15,
   "metadata": {},
   "outputs": [],
   "source": [
    "#__SOLUTION__\n",
    "\n",
    "# Pass the pipeline, as well as X_train['text'] and y_train to cross_val_predict\n",
    "from sklearn.model_selection import cross_val_predict\n",
    "\n",
    "y_hat_train = cross_val_predict(pipe, X_train['text'], y_train)"
   ]
  },
  {
   "cell_type": "code",
   "execution_count": 16,
   "metadata": {},
   "outputs": [
    {
     "data": {
      "text/plain": [
       "array([[3591,   29],\n",
       "       [ 385,  175]])"
      ]
     },
     "execution_count": 16,
     "metadata": {},
     "output_type": "execute_result"
    }
   ],
   "source": [
    "#__SOLUTION__\n",
    "# Create a confusion matrix with the results of cross_val_predict\n",
    "from sklearn.metrics import confusion_matrix\n",
    "confusion_matrix(y_train, y_hat_train)"
   ]
  },
  {
   "cell_type": "markdown",
   "metadata": {},
   "source": [
    "# Iterate\n",
    "\n",
    "For the next 15 minutes, improve you model.  \n",
    "\n",
    "Discuss with your group steps you can take to improve your \"test\" score.\n",
    "\n",
    "What you should consider: \n",
    "    \n",
    "    1. What hyperparameters can you tune on your vectorizer?\n",
    "    2. How should you tune those hyperparameters? \n",
    "    3. What other preprocessing steps, transformers, and estimators should you try?\n",
    "    4. Once you achieve a satisfying score, can you simplify the term matrix and achieve similar performance?"
   ]
  },
  {
   "cell_type": "code",
   "execution_count": 22,
   "metadata": {},
   "outputs": [],
   "source": [
    "# Your code here"
   ]
  },
  {
   "cell_type": "code",
   "execution_count": 17,
   "metadata": {},
   "outputs": [
    {
     "data": {
      "text/plain": [
       "GridSearchCV(estimator=Pipeline(steps=[('tfidfvectorizer', TfidfVectorizer()),\n",
       "                                       ('multinomialnb', MultinomialNB())]),\n",
       "             param_grid={'tfidfvectorizer__max_features': [25, 50, 100, 1000]},\n",
       "             scoring=make_scorer(fbeta_score, beta=0.5))"
      ]
     },
     "execution_count": 17,
     "metadata": {},
     "output_type": "execute_result"
    }
   ],
   "source": [
    "#__SOLUTION__\n",
    "from sklearn.model_selection import GridSearchCV\n",
    "# Define new pipeline with default parameters for tfidf and multinomialNB\n",
    "parameter_dict = {'tfidfvectorizer__max_features':[25,50,100,1000]}\n",
    "\n",
    "new_pipe = make_pipeline(TfidfVectorizer(), MultinomialNB())\n",
    "\n",
    "gs = GridSearchCV(new_pipe, parameter_dict, scoring=f1_precision)\n",
    "gs.fit(X_train['text'], y_train)"
   ]
  },
  {
   "cell_type": "code",
   "execution_count": 18,
   "metadata": {},
   "outputs": [],
   "source": [
    "#__SOLUTION__\n",
    "parameter_dict = {'tfidfvectorizer__max_features': [100,500, 1000, 2000, 3000, 4000], \n",
    "                 'tfidfvectorizer__stop_words': [None, stopwords.words('english')]}\n",
    "\n",
    "pipe = make_pipeline(TfidfVectorizer(), MultinomialNB())\n",
    "\n",
    "def gs_tfidf(parameter_dict, pipe, verbose=True):\n",
    "\n",
    "    gs = GridSearchCV(pipe, parameter_dict, scoring=f1_precision, verbose=verbose)\n",
    "    gs.fit(X_train['text'], y_train)\n",
    "    print(gs.best_score_)\n",
    "\n",
    "    \n",
    "    y_hat_train = cross_val_predict(gs.best_estimator_, X_train['text'], y_train)\n",
    "    \n",
    "    print(confusion_matrix(y_train, y_hat_train))\n",
    "    \n",
    "    print(gs.best_params_)\n",
    "    "
   ]
  },
  {
   "cell_type": "code",
   "execution_count": 19,
   "metadata": {},
   "outputs": [
    {
     "name": "stdout",
     "output_type": "stream",
     "text": [
      "Fitting 5 folds for each of 12 candidates, totalling 60 fits\n"
     ]
    },
    {
     "name": "stderr",
     "output_type": "stream",
     "text": [
      "[Parallel(n_jobs=1)]: Using backend SequentialBackend with 1 concurrent workers.\n",
      "[Parallel(n_jobs=1)]: Done  60 out of  60 | elapsed:    3.2s finished\n"
     ]
    },
    {
     "name": "stdout",
     "output_type": "stream",
     "text": [
      "0.9632032250411017\n",
      "[[3619    1]\n",
      " [  86  474]]\n",
      "{'tfidfvectorizer__max_features': 2000, 'tfidfvectorizer__stop_words': ['i', 'me', 'my', 'myself', 'we', 'our', 'ours', 'ourselves', 'you', \"you're\", \"you've\", \"you'll\", \"you'd\", 'your', 'yours', 'yourself', 'yourselves', 'he', 'him', 'his', 'himself', 'she', \"she's\", 'her', 'hers', 'herself', 'it', \"it's\", 'its', 'itself', 'they', 'them', 'their', 'theirs', 'themselves', 'what', 'which', 'who', 'whom', 'this', 'that', \"that'll\", 'these', 'those', 'am', 'is', 'are', 'was', 'were', 'be', 'been', 'being', 'have', 'has', 'had', 'having', 'do', 'does', 'did', 'doing', 'a', 'an', 'the', 'and', 'but', 'if', 'or', 'because', 'as', 'until', 'while', 'of', 'at', 'by', 'for', 'with', 'about', 'against', 'between', 'into', 'through', 'during', 'before', 'after', 'above', 'below', 'to', 'from', 'up', 'down', 'in', 'out', 'on', 'off', 'over', 'under', 'again', 'further', 'then', 'once', 'here', 'there', 'when', 'where', 'why', 'how', 'all', 'any', 'both', 'each', 'few', 'more', 'most', 'other', 'some', 'such', 'no', 'nor', 'not', 'only', 'own', 'same', 'so', 'than', 'too', 'very', 's', 't', 'can', 'will', 'just', 'don', \"don't\", 'should', \"should've\", 'now', 'd', 'll', 'm', 'o', 're', 've', 'y', 'ain', 'aren', \"aren't\", 'couldn', \"couldn't\", 'didn', \"didn't\", 'doesn', \"doesn't\", 'hadn', \"hadn't\", 'hasn', \"hasn't\", 'haven', \"haven't\", 'isn', \"isn't\", 'ma', 'mightn', \"mightn't\", 'mustn', \"mustn't\", 'needn', \"needn't\", 'shan', \"shan't\", 'shouldn', \"shouldn't\", 'wasn', \"wasn't\", 'weren', \"weren't\", 'won', \"won't\", 'wouldn', \"wouldn't\"]}\n"
     ]
    }
   ],
   "source": [
    "#__SOLUTION__\n",
    "gs_tfidf(parameter_dict, pipe)"
   ]
  },
  {
   "cell_type": "code",
   "execution_count": 20,
   "metadata": {
    "scrolled": false
   },
   "outputs": [
    {
     "name": "stdout",
     "output_type": "stream",
     "text": [
      "Fitting 5 folds for each of 60 candidates, totalling 300 fits\n"
     ]
    },
    {
     "name": "stderr",
     "output_type": "stream",
     "text": [
      "[Parallel(n_jobs=1)]: Using backend SequentialBackend with 1 concurrent workers.\n",
      "[Parallel(n_jobs=1)]: Done 300 out of 300 | elapsed:   15.4s finished\n"
     ]
    },
    {
     "name": "stdout",
     "output_type": "stream",
     "text": [
      "0.9632032250411017\n",
      "[[3619    1]\n",
      " [  86  474]]\n",
      "{'tfidfvectorizer__max_df': 1.0, 'tfidfvectorizer__max_features': 2000, 'tfidfvectorizer__min_df': 1, 'tfidfvectorizer__stop_words': ['i', 'me', 'my', 'myself', 'we', 'our', 'ours', 'ourselves', 'you', \"you're\", \"you've\", \"you'll\", \"you'd\", 'your', 'yours', 'yourself', 'yourselves', 'he', 'him', 'his', 'himself', 'she', \"she's\", 'her', 'hers', 'herself', 'it', \"it's\", 'its', 'itself', 'they', 'them', 'their', 'theirs', 'themselves', 'what', 'which', 'who', 'whom', 'this', 'that', \"that'll\", 'these', 'those', 'am', 'is', 'are', 'was', 'were', 'be', 'been', 'being', 'have', 'has', 'had', 'having', 'do', 'does', 'did', 'doing', 'a', 'an', 'the', 'and', 'but', 'if', 'or', 'because', 'as', 'until', 'while', 'of', 'at', 'by', 'for', 'with', 'about', 'against', 'between', 'into', 'through', 'during', 'before', 'after', 'above', 'below', 'to', 'from', 'up', 'down', 'in', 'out', 'on', 'off', 'over', 'under', 'again', 'further', 'then', 'once', 'here', 'there', 'when', 'where', 'why', 'how', 'all', 'any', 'both', 'each', 'few', 'more', 'most', 'other', 'some', 'such', 'no', 'nor', 'not', 'only', 'own', 'same', 'so', 'than', 'too', 'very', 's', 't', 'can', 'will', 'just', 'don', \"don't\", 'should', \"should've\", 'now', 'd', 'll', 'm', 'o', 're', 've', 'y', 'ain', 'aren', \"aren't\", 'couldn', \"couldn't\", 'didn', \"didn't\", 'doesn', \"doesn't\", 'hadn', \"hadn't\", 'hasn', \"hasn't\", 'haven', \"haven't\", 'isn', \"isn't\", 'ma', 'mightn', \"mightn't\", 'mustn', \"mustn't\", 'needn', \"needn't\", 'shan', \"shan't\", 'shouldn', \"shouldn't\", 'wasn', \"wasn't\", 'weren', \"weren't\", 'won', \"won't\", 'wouldn', \"wouldn't\"]}\n"
     ]
    }
   ],
   "source": [
    "#__SOLUTION__\n",
    "parameter_dict = {'tfidfvectorizer__max_features': [None, 500,1000, 1500, 2000], \n",
    "                 'tfidfvectorizer__stop_words': [None, stopwords.words('english')],\n",
    "                  'tfidfvectorizer__max_df': [1.0, .9, .8], \n",
    "                 'tfidfvectorizer__min_df': [1, 5]}\n",
    "\n",
    "\n",
    "gs_tfidf(parameter_dict, pipe)"
   ]
  },
  {
   "cell_type": "code",
   "execution_count": 21,
   "metadata": {},
   "outputs": [
    {
     "name": "stdout",
     "output_type": "stream",
     "text": [
      "Fitting 5 folds for each of 18 candidates, totalling 90 fits\n"
     ]
    },
    {
     "name": "stderr",
     "output_type": "stream",
     "text": [
      "[Parallel(n_jobs=1)]: Using backend SequentialBackend with 1 concurrent workers.\n",
      "[Parallel(n_jobs=1)]: Done  90 out of  90 | elapsed:   40.4s finished\n"
     ]
    },
    {
     "name": "stdout",
     "output_type": "stream",
     "text": [
      "0.964416779387471\n",
      "[[3614    6]\n",
      " [  69  491]]\n",
      "{'tfidfvectorizer__max_df': 0.9, 'tfidfvectorizer__max_features': 1500, 'tfidfvectorizer__min_df': 5}\n"
     ]
    }
   ],
   "source": [
    "#__SOLUTION__\n",
    "from sklearn.ensemble import RandomForestClassifier\n",
    "parameter_dict = {'tfidfvectorizer__max_features': [1500, 2000],\n",
    "                  'tfidfvectorizer__max_df': [1.0,.9, .8], \n",
    "                 'tfidfvectorizer__min_df': [1, 5, 10], }\n",
    "\n",
    "pipe = make_pipeline(TfidfVectorizer(stop_words=stopwords.words('english')), RandomForestClassifier())\n",
    "gs_tfidf(parameter_dict, pipe)"
   ]
  },
  {
   "cell_type": "code",
   "execution_count": null,
   "metadata": {},
   "outputs": [],
   "source": []
  }
 ],
 "metadata": {
  "kernelspec": {
   "display_name": "learn-env",
   "language": "python",
   "name": "learn-env"
  },
  "language_info": {
   "codemirror_mode": {
    "name": "ipython",
    "version": 3
   },
   "file_extension": ".py",
   "mimetype": "text/x-python",
   "name": "python",
   "nbconvert_exporter": "python",
   "pygments_lexer": "ipython3",
   "version": "3.8.5"
  }
 },
 "nbformat": 4,
 "nbformat_minor": 4
}
